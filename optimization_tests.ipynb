{
 "cells": [
  {
   "cell_type": "code",
   "execution_count": 1,
   "metadata": {},
   "outputs": [],
   "source": [
    "import math\n",
    "import numpy as np\n",
    "from numpy import linalg as LA\n",
    "import random\n",
    "from numpy.linalg import inv"
   ]
  },
  {
   "cell_type": "code",
   "execution_count": null,
   "metadata": {},
   "outputs": [],
   "source": [
    "math.sin(math.sqrt(2)*math.pi)"
   ]
  },
  {
   "cell_type": "code",
   "execution_count": null,
   "metadata": {},
   "outputs": [],
   "source": [
    "#Rosenbrock function\n",
    "def f(xk):\n",
    "    x1 = xk[0]\n",
    "    x2 = xk[1]\n",
    "    func=100*(x2 - x1**2)**2 +(1-x1)**2\n",
    "    return func"
   ]
  },
  {
   "cell_type": "code",
   "execution_count": null,
   "metadata": {},
   "outputs": [],
   "source": [
    "def gradientf(xk):\n",
    "    x1 = xk[0]\n",
    "    x2= xk[1]\n",
    "    div1=-400*x1*(x2-x1**2)- 2*(1-x1)**2\n",
    "    div2= 200*(x2-x1**2)\n",
    "    return np.array(np.array([div1,div2],dtype=float))"
   ]
  },
  {
   "cell_type": "code",
   "execution_count": null,
   "metadata": {},
   "outputs": [],
   "source": [
    "def pk(xk):\n",
    "    pk= - gradientf(xk)\n",
    "    return pk"
   ]
  },
  {
   "cell_type": "code",
   "execution_count": null,
   "metadata": {
    "scrolled": true
   },
   "outputs": [],
   "source": [
    "xk=(0,0)\n",
    "a=0.3\n",
    "x_new= xk + a*pk(xk)\n",
    "f(x_new) "
   ]
  },
  {
   "cell_type": "code",
   "execution_count": null,
   "metadata": {},
   "outputs": [],
   "source": [
    "def backtracking (a, xk):\n",
    "    rho=0.5\n",
    "    c1= math.pow(10,-4)\n",
    "    x_new= xk + a*pk(xk)    \n",
    "    while( f(x_new)> (f(xk) + c1*a*gradientf(xk)@pk(xk))):\n",
    "        print(\"a is:\", a)\n",
    "        print(\"f(x_new) is:\", f(x_new))\n",
    "        print( \"f(xk)+ac1*Gradf*pk:\", f(xk) + c1*a*gradientf(xk) @ pk(xk))\n",
    "        a=rho*a\n",
    "        x_new= xk + a*pk(xk)  \n",
    "    print(\"The armijo is True so the algorithm ends, the step value is:\")\n",
    "    return a"
   ]
  },
  {
   "cell_type": "code",
   "execution_count": null,
   "metadata": {
    "scrolled": false
   },
   "outputs": [],
   "source": [
    "xk=(0,0)\n",
    "backtracking(0.3,xk)"
   ]
  },
  {
   "cell_type": "code",
   "execution_count": null,
   "metadata": {},
   "outputs": [],
   "source": [
    "def phi(xk,a):\n",
    "    xnew=xk+a*pk(xk)\n",
    "    return f(xnew)"
   ]
  },
  {
   "cell_type": "code",
   "execution_count": null,
   "metadata": {},
   "outputs": [],
   "source": [
    "def Gradphi(xk,a):\n",
    "    new=xk + a*pk(xk)\n",
    "    return gradientf(new)@pk(xk)"
   ]
  },
  {
   "cell_type": "code",
   "execution_count": null,
   "metadata": {},
   "outputs": [],
   "source": [
    "def zoom(a_low,a_high):\n",
    "    c1=math.pow(10,-4)\n",
    "    c2=0.9\n",
    "    t = 0\n",
    "    while True:\n",
    "        aj = (a_high + a_low)/2\n",
    "        print(\"aj is\",aj)\n",
    "        if (phi(xk,aj) > phi(xk,0) + c1*aj*Gradphi(xk,0)) or (phi(xk,aj) >=phi(xk,a_low)):\n",
    "            print(\"MPIKA PRWTO IF\")\n",
    "            a_high = aj\n",
    "        else:\n",
    "            phi_grad_aj=abs(Gradphi(xk,aj))\n",
    "            print(\"MPIKA ELSE\")\n",
    "            if (phi_grad_aj <= -c2*Gradphi(xk,0)):\n",
    "                aastro = aj\n",
    "                return aastro\n",
    "\n",
    "            if ((Gradphi(xk,aj)*(a_high-a_low)) >= 0 ) :\n",
    "                print(\"MPIKA EDW\")\n",
    "                a_high = a_low\n",
    "\n",
    "            a_low = aj\n",
    "        t= t+1"
   ]
  },
  {
   "cell_type": "code",
   "execution_count": null,
   "metadata": {},
   "outputs": [],
   "source": [
    "def linesearch(xk):\n",
    "    amax=1\n",
    "    ai=0 #a0=0\n",
    "    a_minus=0\n",
    "    i=1\n",
    "    c1 = math.pow(10,-4)\n",
    "    c2 = 0.9\n",
    "    while True:\n",
    "        if((phi(xk,ai)> phi(xk,0) +c1*ai*Gradphi(xk,0)) or (phi(xk,ai)>=phi(xk, a_minus) and (i>1))):\n",
    "            print(\"MPIKA ZOOM\")\n",
    "            aastro= zoom(a_minus, ai)\n",
    "            return aastro\n",
    "        if ( abs(Gradphi(xk,ai)) <= -c2*Gradphi(xk,0)):\n",
    "            aastro= ai \n",
    "            return aastro\n",
    "        if ( Gradphi(xk,ai)>=0 ):\n",
    "            aastro= zoom(ai, a_minus)\n",
    "            return aastro\n",
    "        a_minus=ai\n",
    "        ai= random.uniform(ai, amax)\n",
    "        print(\"ai is:\",ai)\n",
    "        i= i +1"
   ]
  },
  {
   "cell_type": "code",
   "execution_count": null,
   "metadata": {},
   "outputs": [],
   "source": [
    "xk=(-0.5,0.5)"
   ]
  },
  {
   "cell_type": "code",
   "execution_count": null,
   "metadata": {},
   "outputs": [],
   "source": [
    "def Hessianr(xk):\n",
    "    x1=xk[0]\n",
    "    x2=xk[1]\n",
    "    dx1x1= 1200 * x1**2 - 400*x2 +2\n",
    "    dx1x2= - 400*x1\n",
    "    dx2x1= - 400*x1\n",
    "    dx2x2= 200\n",
    "    h= np.array([[dx1x1, dx1x2], [dx2x1, dx2x2]])\n",
    "    return h"
   ]
  },
  {
   "cell_type": "code",
   "execution_count": null,
   "metadata": {},
   "outputs": [],
   "source": [
    "def pnewton(xk):\n",
    "    pn= - inv(Hessian(xk)) @ gradientf(xk)\n",
    "    return pn"
   ]
  },
  {
   "cell_type": "code",
   "execution_count": null,
   "metadata": {},
   "outputs": [],
   "source": [
    "i=np.array([[1,1],[0,1]])\n",
    "eign=LA.eig(i)\n",
    "eign[0]"
   ]
  },
  {
   "cell_type": "code",
   "execution_count": null,
   "metadata": {
    "scrolled": true
   },
   "outputs": [],
   "source": [
    "epsilon= math.pow(10,-3)\n",
    "gk=gradientf(xk)\n",
    "k=0\n",
    "while (LA.norm(gk)>=epsilon):\n",
    "    ak=linesearch(xk)\n",
    "    print(\"ak is:\",ak)\n",
    "    xnew=xk+ak*pk(xk)\n",
    "    print(\"the new position is:\",xnew)\n",
    "    print(\"fvalue\", f(xnew))\n",
    "    gk=gradientf(xnew)\n",
    "    xk=xnew\n",
    "    k=k+1\n",
    "    print(\"itteration:\",k)"
   ]
  },
  {
   "cell_type": "code",
   "execution_count": null,
   "metadata": {},
   "outputs": [],
   "source": [
    "xk=(-0.5,0.5)\n",
    "eing=LA.eig(Hessian(xk))[0]\n",
    "eing.all()>0"
   ]
  },
  {
   "cell_type": "code",
   "execution_count": null,
   "metadata": {},
   "outputs": [],
   "source": [
    "epsilon= math.pow(10,-3)\n",
    "gk=gradientf(xk)\n",
    "k=0\n",
    "while (LA.norm(gk)>=epsilon):\n",
    "    ak=linesearch(xk)\n",
    "    print(\"ak is:\",ak)\n",
    "    eing=LA.eig(Hessian(xk))[0]\n",
    "    if eing.all()> 0:\n",
    "        xnew=xk+ak*pnewton(xk)\n",
    "        print(\"the new position is:\",xnew)\n",
    "        print(\"fvalue\", f(xnew))\n",
    "        gk=gradientf(xnew)\n",
    "        xk=xnew\n",
    "        k=k+1\n",
    "        print(\"itteration:\",k)\n",
    "    else:\n",
    "        print(\"Matrix has to change, it's not positive!\")"
   ]
  },
  {
   "cell_type": "markdown",
   "metadata": {},
   "source": [
    "# Griewank function for test 1"
   ]
  },
  {
   "cell_type": "code",
   "execution_count": 2,
   "metadata": {},
   "outputs": [],
   "source": [
    "def gw(xk):\n",
    "    x1=xk[0]\n",
    "    x2=xk[1]\n",
    "    f=1 + (1/4000) *(x1**2 + x2**2) - math.cos(x1)* math.cos((x2/math.sqrt(2)))\n",
    "    return f"
   ]
  },
  {
   "cell_type": "code",
   "execution_count": 3,
   "metadata": {},
   "outputs": [],
   "source": [
    "def gradgw(xk):\n",
    "    x1=xk[0]\n",
    "    x2=xk[1]\n",
    "    dx1=(1/2000)*x1 + math.sin(x1)*math.cos((x2/math.sqrt(2)))\n",
    "    dx2= (1/2000)*x2 + (1/math.sqrt(2))*math.cos(x1)*math.sin((x2/math.sqrt(2)))\n",
    "    return np.array(np.array([dx1,dx2],dtype=float))"
   ]
  },
  {
   "cell_type": "markdown",
   "metadata": {},
   "source": [
    "# Armijo testing "
   ]
  },
  {
   "cell_type": "code",
   "execution_count": 6,
   "metadata": {},
   "outputs": [],
   "source": [
    "def armijo(xk,pk,ak):\n",
    "    #xk= (math.pi, math.sqrt(2)*math.pi)\n",
    "    #pk=(math.pi, - math.sqrt(2)*math.pi)\n",
    "    c1=0.0001\n",
    "    xnew= np.add(xk, np.multiply(pk,ak))\n",
    "    print(xnew)\n",
    "    print(gw(xnew))\n",
    "    print(gw(xk) + c1* ak * gradgw(xk)@pk)\n",
    "    return (gw(xnew) <= (gw(xk) + c1* ak * gradgw(xk)@pk))"
   ]
  },
  {
   "cell_type": "code",
   "execution_count": 4,
   "metadata": {},
   "outputs": [],
   "source": [
    "xk= (math.pi, math.sqrt(2)*math.pi)\n",
    "pk=(math.pi, - math.sqrt(2)*math.pi)"
   ]
  },
  {
   "cell_type": "code",
   "execution_count": 7,
   "metadata": {},
   "outputs": [
    {
     "name": "stdout",
     "output_type": "stream",
     "text": [
      "[3.17300858 4.39845411]\n",
      "0.008340231285005828\n",
      "0.007402198366014778\n"
     ]
    },
    {
     "data": {
      "text/plain": [
       "False"
      ]
     },
     "execution_count": 7,
     "metadata": {},
     "output_type": "execute_result"
    }
   ],
   "source": [
    "ak=0.01\n",
    "armijo(xk,pk,ak)"
   ]
  },
  {
   "cell_type": "markdown",
   "metadata": {},
   "source": [
    "# sinthiki kampilotitas"
   ]
  },
  {
   "cell_type": "code",
   "execution_count": 41,
   "metadata": {},
   "outputs": [],
   "source": [
    "def kampyl(xk,pk,ak):\n",
    "    c2= random.uniform(0.0001,1)\n",
    "    xnew= np.add(xk, np.multiply(pk,ak))\n",
    "    return gradgw(xnew)@pk >= np.multiply(c2, gradgw(xk)@pk)"
   ]
  },
  {
   "cell_type": "code",
   "execution_count": 42,
   "metadata": {},
   "outputs": [
    {
     "name": "stdout",
     "output_type": "stream",
     "text": [
      "0.009869604401088588\n",
      "-0.004195396720365627\n"
     ]
    },
    {
     "data": {
      "text/plain": [
       "True"
      ]
     },
     "execution_count": 42,
     "metadata": {},
     "output_type": "execute_result"
    }
   ],
   "source": [
    "ak=1\n",
    "kampyl(xk,pk,ak)"
   ]
  },
  {
   "cell_type": "code",
   "execution_count": null,
   "metadata": {},
   "outputs": [],
   "source": [
    "def Hessian(xk):\n",
    "    x1=xk[0]\n",
    "    x2=xk[1]\n",
    "    dx1x1= (1/2000) + math.cos(x1)* math.cos(x2/math.sqrt(2))\n",
    "    dx1x2= - math.sin(x1)*math.sin(x2/math.sqrt(2))*(1/math.sqrt(2))\n",
    "    dx2x1= - math.sin(x1)*math.sin(x2/math.sqrt(2))*(1/math.sqrt(2))\n",
    "    dx2x2= (1/2000)+ (1/2)*math.cos(x1)*math.cos(x2/math.sqrt(2))\n",
    "    h= np.array([[dx1x1, dx1x2], [dx2x1, dx2x2]])\n",
    "    return h"
   ]
  },
  {
   "cell_type": "code",
   "execution_count": null,
   "metadata": {},
   "outputs": [],
   "source": [
    "# Don't forget to check if the inv Hessian is positive"
   ]
  },
  {
   "cell_type": "code",
   "execution_count": null,
   "metadata": {},
   "outputs": [],
   "source": [
    "eign= LA.eig(Hessian(xk))\n",
    "eign[0].all() >0"
   ]
  },
  {
   "cell_type": "code",
   "execution_count": null,
   "metadata": {},
   "outputs": [],
   "source": [
    "def pnewton(xk):\n",
    "    pn= - LA.inv(Hessian(xk)) @ gradgw(xk)\n",
    "    return pn"
   ]
  },
  {
   "cell_type": "code",
   "execution_count": null,
   "metadata": {},
   "outputs": [],
   "source": [
    "pnewton(xk)"
   ]
  },
  {
   "cell_type": "code",
   "execution_count": null,
   "metadata": {
    "scrolled": true
   },
   "outputs": [],
   "source": [
    "A=np.array([[4.,6.,10.],[6.,25.,19.],[10.,19.,62.]])\n",
    "L=np.linalg.cholesky(A)\n",
    "print('L=',L)\n",
    "print('\\n')\n",
    "print('LL.T=',np.dot(L,L.T))"
   ]
  },
  {
   "cell_type": "code",
   "execution_count": null,
   "metadata": {},
   "outputs": [],
   "source": [
    "I=np.identity(len(A))\n",
    "A+ 2*I"
   ]
  },
  {
   "cell_type": "markdown",
   "metadata": {},
   "source": [
    "# conert to possitive definite matrix"
   ]
  },
  {
   "cell_type": "code",
   "execution_count": 43,
   "metadata": {},
   "outputs": [],
   "source": [
    "def make_positive(H):\n",
    "    b=1\n",
    "    I = np.identity(len(H))\n",
    "    if (min(np.diagonal(H))>0):\n",
    "        tk=0\n",
    "    else:\n",
    "        tk= - min(np.diagonal(H)) + b\n",
    "    while True:\n",
    "        try:\n",
    "            ar= H + tk* I\n",
    "            L=np.linalg.cholesky(ar)\n",
    "            return L\n",
    "        except:\n",
    "            tk= max(2*tk, b)"
   ]
  },
  {
   "cell_type": "code",
   "execution_count": 52,
   "metadata": {},
   "outputs": [
    {
     "data": {
      "text/plain": [
       "array([[13., -1., -1.],\n",
       "       [-1.,  9.,  1.],\n",
       "       [-1.,  1.,  1.]])"
      ]
     },
     "execution_count": 52,
     "metadata": {},
     "output_type": "execute_result"
    }
   ],
   "source": [
    "A=np.array([[2,-1,-1],[-1,-2,1],[-1,1,-10]])\n",
    "L=make_positive(A)\n",
    "L@L.T"
   ]
  },
  {
   "cell_type": "markdown",
   "metadata": {},
   "source": [
    "# Trust region test 2"
   ]
  },
  {
   "cell_type": "code",
   "execution_count": 56,
   "metadata": {},
   "outputs": [
    {
     "data": {
      "text/plain": [
       "2.0"
      ]
     },
     "execution_count": 56,
     "metadata": {},
     "output_type": "execute_result"
    }
   ],
   "source": [
    "#Newton point\n",
    "H= np.array([[2,4,-2], [4,16,-4],[-2,-4,4]])\n",
    "LA.eig(H)[0].all()>0\n",
    "gk=np.array([4,8,-4])\n",
    "k=LA.inv(H)\n",
    "p_B= - k@gk\n",
    "LA.norm(p_B) #we dont accept Newton point for radius =1"
   ]
  },
  {
   "cell_type": "code",
   "execution_count": 57,
   "metadata": {},
   "outputs": [
    {
     "data": {
      "text/plain": [
       "0.5546014511961913"
      ]
     },
     "execution_count": 57,
     "metadata": {},
     "output_type": "execute_result"
    }
   ],
   "source": [
    "#cauchy point\n",
    "x=gk.transpose()@gk\n",
    "y=gk.transpose() @ H @ gk\n",
    "pU= - np.multiply((x/y), gk)\n",
    "LA.norm(pU)  #we dont accept cachy point for radius =1 "
   ]
  },
  {
   "cell_type": "code",
   "execution_count": 60,
   "metadata": {},
   "outputs": [
    {
     "data": {
      "text/plain": [
       "<function __main__.<lambda>(t)>"
      ]
     },
     "execution_count": 60,
     "metadata": {},
     "output_type": "execute_result"
    }
   ],
   "source": [
    "f = lambda t: math.pow( LA.norm(pU + np.multiply((t-1),(p_B - pU))), 2) - 1\n",
    "f"
   ]
  },
  {
   "cell_type": "code",
   "execution_count": 61,
   "metadata": {},
   "outputs": [],
   "source": [
    "def bisection(f,a,b,N):\n",
    "    if f(a)*f(b) >= 0:\n",
    "        print(\"Bisection method fails.\")\n",
    "        return None\n",
    "    a_n = a\n",
    "    b_n = b\n",
    "    for n in range(1,N+1):\n",
    "        m_n = (a_n + b_n)/2\n",
    "        f_m_n = f(m_n)\n",
    "        if f(a_n)*f_m_n < 0:\n",
    "            a_n = a_n\n",
    "            b_n = m_n\n",
    "        elif f(b_n)*f_m_n < 0:\n",
    "            a_n = m_n\n",
    "            b_n = b_n\n",
    "        elif f_m_n == 0:\n",
    "            print(\"Found exact solution.\")\n",
    "            return m_n\n",
    "        else:\n",
    "            print(\"Bisection method fails.\")\n",
    "            return None\n",
    "    return (a_n + b_n)/2"
   ]
  },
  {
   "cell_type": "code",
   "execution_count": 65,
   "metadata": {},
   "outputs": [
    {
     "data": {
      "text/plain": [
       "1.4104709106062039"
      ]
     },
     "execution_count": 65,
     "metadata": {},
     "output_type": "execute_result"
    }
   ],
   "source": [
    "t=bisection(f,1,2,100)\n",
    "t"
   ]
  },
  {
   "cell_type": "code",
   "execution_count": 66,
   "metadata": {},
   "outputs": [
    {
     "data": {
      "text/plain": [
       "array([-0.95442011, -0.26695657,  0.13347828])"
      ]
     },
     "execution_count": 66,
     "metadata": {},
     "output_type": "execute_result"
    }
   ],
   "source": [
    "pastro= pU + np.multiply((t-1), p_B - pU)\n",
    "pastro"
   ]
  },
  {
   "cell_type": "markdown",
   "metadata": {},
   "source": [
    " erwtisi 4. Syzigis dieuthinseis"
   ]
  },
  {
   "cell_type": "code",
   "execution_count": 13,
   "metadata": {},
   "outputs": [],
   "source": [
    "def gradf3(xk):\n",
    "    x1=xk[0]\n",
    "    x2=xk[1]\n",
    "    x3=xk[2]\n",
    "    div1= 2*(x1 + x2**2  - math.log(x3))\n",
    "    div2= 4* x2 *( x1+ x2**2 - math.log(x3))\n",
    "    div3= -2*(x1 + x2**2 - math.log(x3))*(1/x3)\n",
    "    return np.array(np.array([div1,div2,div3],dtype=float))"
   ]
  },
  {
   "cell_type": "code",
   "execution_count": 26,
   "metadata": {},
   "outputs": [
    {
     "data": {
      "text/plain": [
       "-0.05718485977501195"
      ]
     },
     "execution_count": 26,
     "metadata": {},
     "output_type": "execute_result"
    }
   ],
   "source": [
    "xkplus=(0.6,0.2,1.4)\n",
    "xk=(1,1,1)\n",
    "p0= - gradf3(xk)\n",
    "grad_fxkplus=gradf3(xkplus)\n",
    "grad_fxk= gradf3(xk)\n",
    "b_FR = (grad_fxkplus.transpose() @ grad_fxkplus)/ (grad_fxk.transpose() @ grad_fxk)\n",
    "p1_FR= - grad_fxkplus + np.multiply( b_FR, p0)\n",
    "b_PR = (grad_fxkplus.transpose() @ (grad_fxkplus - grad_fxk))/ (math.pow(LA.norm(grad_fxk),2))\n",
    "p1_PR = - grad_fxkplus + np.multiply(b_PR, p0)"
   ]
  },
  {
   "cell_type": "code",
   "execution_count": 29,
   "metadata": {},
   "outputs": [
    {
     "data": {
      "text/plain": [
       "array([-0.60705553, -0.24282221,  0.43361109])"
      ]
     },
     "execution_count": 29,
     "metadata": {},
     "output_type": "execute_result"
    }
   ],
   "source": [
    "b_PR_max=max(b_PR,0)\n",
    "p1_PR_max = - grad_fxkplus + np.multiply(b_PR_max, p0)\n",
    "p1_PR_max"
   ]
  },
  {
   "cell_type": "markdown",
   "metadata": {},
   "source": [
    "# Test 3"
   ]
  },
  {
   "cell_type": "code",
   "execution_count": 8,
   "metadata": {},
   "outputs": [],
   "source": [
    "simple= list()\n",
    "# ro operators\n",
    "ro_reflection = 1\n",
    "ro_expansion = 2 * ro_reflection\n",
    "ro_external_contraction = 0.5 * ro_reflection\n",
    "ro_internal_contraction = -0.5\n",
    "x1=(0,0)\n",
    "x2=(1,1)\n",
    "x3=(-2,1)\n",
    "def f4(xk):\n",
    "    x1=xk[0]\n",
    "    x2=xk[1]\n",
    "    return 2*(x1**2) - x2**2"
   ]
  },
  {
   "cell_type": "code",
   "execution_count": 35,
   "metadata": {},
   "outputs": [
    {
     "data": {
      "text/plain": [
       "0.5625"
      ]
     },
     "execution_count": 35,
     "metadata": {},
     "output_type": "execute_result"
    }
   ],
   "source": [
    "f1=f4(x1)\n",
    "f2=f4(x2)\n",
    "f3=f4(x3)\n",
    "x_meso= np.add(x1,x2)/2\n",
    "x_ref= np.multiply((1+ ro_reflection),x_meso) - np.multiply(ro_reflection,x3)\n",
    "fref=f4(x_ref)\n",
    "f1 <= fref < f2 #False, so we continue.\n",
    "fref< f1 #False\n",
    "f2<=fref<f3 #False\n",
    "f3<=fref #True!!!\n",
    "xinc=np.multiply((1+ ro_internal_contraction),x_meso) - np.multiply(ro_internal_contraction,x3)\n",
    "finc=f4(xinc)\n",
    "finc<f3 #True!!! opote krataw to finc sto aploko sti thesi tou x3\n",
    "finc"
   ]
  },
  {
   "cell_type": "code",
   "execution_count": 82,
   "metadata": {},
   "outputs": [
    {
     "data": {
      "text/plain": [
       "array([18.,  2.])"
      ]
     },
     "execution_count": 82,
     "metadata": {},
     "output_type": "execute_result"
    }
   ],
   "source": [
    "H=np.array([[10,8],[8,10]])\n",
    "from numpy.linalg import inv\n",
    "inv=inv(H)\n",
    "LA.eig(inv)[0]\n",
    "LA.eig(H)[0]"
   ]
  },
  {
   "cell_type": "markdown",
   "metadata": {},
   "source": [
    "# exams"
   ]
  },
  {
   "cell_type": "code",
   "execution_count": 8,
   "metadata": {},
   "outputs": [],
   "source": [
    "def f(xk):\n",
    "    x=xk[0]\n",
    "    y=xk[1]\n",
    "    return (x+2*y-7)**2 + (2*x+y-5)**2"
   ]
  },
  {
   "cell_type": "code",
   "execution_count": 11,
   "metadata": {},
   "outputs": [],
   "source": [
    "def gradf(xk):\n",
    "    x=xk[0]\n",
    "    y=xk[1]\n",
    "    div1= 10*x+8*y-34\n",
    "    div2= 8*x+10*y-38\n",
    "    return np.array(np.array([div1,div2],dtype=float))"
   ]
  },
  {
   "cell_type": "code",
   "execution_count": 15,
   "metadata": {},
   "outputs": [],
   "source": [
    "def p(xk,pk):\n",
    "    return gradf(xk)@pk <0"
   ]
  },
  {
   "cell_type": "code",
   "execution_count": 81,
   "metadata": {
    "scrolled": true
   },
   "outputs": [
    {
     "data": {
      "text/plain": [
       "0.500003111417426"
      ]
     },
     "execution_count": 81,
     "metadata": {},
     "output_type": "execute_result"
    }
   ],
   "source": [
    "xk=(1,1)\n",
    "pk=(1.0000,-0.1523)\n",
    "cos= -(pk@gradf(xk))/(LA.norm(pk)*LA.norm(gradf(xk)))\n",
    "cos"
   ]
  },
  {
   "cell_type": "code",
   "execution_count": 45,
   "metadata": {},
   "outputs": [],
   "source": [
    "def arm(xk,pk,ak):\n",
    "    c1=0.0001\n",
    "    xnew= np.add(xk, np.multiply(pk,ak))\n",
    "    print(f(xk) + c1* ak * gradf(xk)@pk)\n",
    "    print(f(xnew))\n",
    "    return (f(xnew) <= (f(xk) + c1* ak * gradf(xk)@pk))"
   ]
  },
  {
   "cell_type": "code",
   "execution_count": 48,
   "metadata": {},
   "outputs": [
    {
     "data": {
      "text/plain": [
       "19.9963264"
      ]
     },
     "execution_count": 48,
     "metadata": {},
     "output_type": "execute_result"
    }
   ],
   "source": [
    "pk=(16,20)\n",
    "c1=0.0001\n",
    "ak=0.056\n",
    "c1* ak * gradf(xk)@pk +20"
   ]
  },
  {
   "cell_type": "code",
   "execution_count": 49,
   "metadata": {},
   "outputs": [],
   "source": [
    "def f1(xk):\n",
    "    x1=xk[0]\n",
    "    x2=xk[1]\n",
    "    return (x1**2 +x2**2)**2"
   ]
  },
  {
   "cell_type": "code",
   "execution_count": 56,
   "metadata": {},
   "outputs": [],
   "source": [
    "def gradf1(xk):\n",
    "    x1=xk[0]\n",
    "    x2=xk[1]\n",
    "    div1= 4*math.pow(x1,3) + 4*x1*math.pow(x2,2)\n",
    "    div2= 4*math.pow(x2,3) + 4*x2*math.pow(x1,2)\n",
    "    return np.array(np.array([div1,div2],dtype=float))"
   ]
  },
  {
   "cell_type": "code",
   "execution_count": 65,
   "metadata": {},
   "outputs": [],
   "source": [
    "def arm(xk,pk,ak):\n",
    "    c1=0.1\n",
    "    xnew= np.add(xk, np.multiply(pk,ak))\n",
    "    print(xnew)\n",
    "    print(f1(xk) + c1* ak * gradf1(xk)@pk)\n",
    "    print(f1(xnew))\n",
    "    return (f1(xnew) <= (f1(xk) + c1* ak * gradf1(xk)@pk))"
   ]
  },
  {
   "cell_type": "code",
   "execution_count": 87,
   "metadata": {},
   "outputs": [
    {
     "data": {
      "text/plain": [
       "array([1.0005, 0.5005])"
      ]
     },
     "execution_count": 87,
     "metadata": {},
     "output_type": "execute_result"
    }
   ],
   "source": [
    "A=np.array([[1.0005,0],[0,0.5005]])\n",
    "LA.eig(A)[0]"
   ]
  },
  {
   "cell_type": "code",
   "execution_count": 76,
   "metadata": {},
   "outputs": [
    {
     "name": "stdout",
     "output_type": "stream",
     "text": [
      "[3.25 6.5 ]\n",
      "219.7\n",
      "2789.16015625\n"
     ]
    },
    {
     "data": {
      "text/plain": [
       "169"
      ]
     },
     "execution_count": 76,
     "metadata": {},
     "output_type": "execute_result"
    }
   ],
   "source": [
    "xk=(3,2)\n",
    "pk=(0.5,9)\n",
    "arm(xk,pk,0.5)\n",
    "f1(xk)"
   ]
  },
  {
   "cell_type": "code",
   "execution_count": 74,
   "metadata": {},
   "outputs": [],
   "source": [
    "def kampyl(xk,pk,ak):\n",
    "    c2= 0.9\n",
    "    xnew= np.add(xk, np.multiply(pk,ak))\n",
    "    return gradf1(xnew)@pk >= np.multiply(c2, gradf1(xk)@pk)"
   ]
  },
  {
   "cell_type": "code",
   "execution_count": 75,
   "metadata": {
    "scrolled": true
   },
   "outputs": [
    {
     "data": {
      "text/plain": [
       "True"
      ]
     },
     "execution_count": 75,
     "metadata": {},
     "output_type": "execute_result"
    }
   ],
   "source": [
    "kampyl(xk,pk,0.5)"
   ]
  },
  {
   "cell_type": "markdown",
   "metadata": {},
   "source": [
    "# exams"
   ]
  },
  {
   "cell_type": "code",
   "execution_count": 8,
   "metadata": {},
   "outputs": [],
   "source": [
    "def gradf(xk):\n",
    "    x=xk[0]\n",
    "    y=xk[1]\n",
    "    div1=  4*(x**3)+4*x*y -42*x+2*(y**2)-14\n",
    "    div2= 2*(x**2)+4*(y**3)+4*y*x -26*y-22\n",
    "    return np.array(np.array([div1,div2],dtype=float))"
   ]
  },
  {
   "cell_type": "code",
   "execution_count": 12,
   "metadata": {},
   "outputs": [],
   "source": [
    "def f(xk):\n",
    "    x=xk[0]\n",
    "    y=xk[1]\n",
    "    return (x**2 +y -11)**2 +(x+y**2 -7)**2"
   ]
  },
  {
   "cell_type": "code",
   "execution_count": 9,
   "metadata": {},
   "outputs": [
    {
     "data": {
      "text/plain": [
       "array([-46., -38.])"
      ]
     },
     "execution_count": 9,
     "metadata": {},
     "output_type": "execute_result"
    }
   ],
   "source": [
    "xk=(1,1)\n",
    "gradf(xk)"
   ]
  },
  {
   "cell_type": "code",
   "execution_count": 18,
   "metadata": {},
   "outputs": [],
   "source": [
    "def armijo(xk,pk,ak):\n",
    "    c1=0.0001\n",
    "    xnew= np.add(xk, np.multiply(pk,ak))\n",
    "    print(xnew)\n",
    "    print(f(xnew))\n",
    "    print(f(xk) + c1* ak * gradf(xk)@pk)\n",
    "    return (f(xnew) <= (f(xk) + c1* ak * gradf(xk)@pk))"
   ]
  },
  {
   "cell_type": "code",
   "execution_count": 39,
   "metadata": {},
   "outputs": [
    {
     "name": "stdout",
     "output_type": "stream",
     "text": [
      "[1.46 1.38]\n",
      "69.29372192000001\n",
      "105.99644\n"
     ]
    },
    {
     "data": {
      "text/plain": [
       "True"
      ]
     },
     "execution_count": 39,
     "metadata": {},
     "output_type": "execute_result"
    }
   ],
   "source": [
    "xk=(1,1)\n",
    "pk=-gradf(xk)\n",
    "armijo(xk,pk,0.01)"
   ]
  },
  {
   "cell_type": "code",
   "execution_count": 44,
   "metadata": {},
   "outputs": [],
   "source": [
    "def kampyl(xk,pk,ak):\n",
    "    c2= 0.9\n",
    "    xnew= np.add(xk, np.multiply(pk,ak))\n",
    "    return gradf(xnew)@pk >= np.multiply(c2, gradf(xk)@pk)"
   ]
  },
  {
   "cell_type": "code",
   "execution_count": 45,
   "metadata": {},
   "outputs": [
    {
     "data": {
      "text/plain": [
       "False"
      ]
     },
     "execution_count": 45,
     "metadata": {},
     "output_type": "execute_result"
    }
   ],
   "source": [
    "xk=(1,1)\n",
    "pk= -gradf(xk)\n",
    "kampyl(xk,pk,0.01)"
   ]
  },
  {
   "cell_type": "code",
   "execution_count": 28,
   "metadata": {},
   "outputs": [
    {
     "data": {
      "text/plain": [
       "array([-0.03411373, -0.14955974])"
      ]
     },
     "execution_count": 28,
     "metadata": {},
     "output_type": "execute_result"
    }
   ],
   "source": [
    "A= np.array([[-26,8],[8,-10]])\n",
    "invers=LA.inv(A)\n",
    "LA.eig(invers)[0]"
   ]
  },
  {
   "cell_type": "code",
   "execution_count": 29,
   "metadata": {},
   "outputs": [],
   "source": [
    "def make_positive(H):\n",
    "    b=1\n",
    "    I = np.identity(len(H))\n",
    "    if (min(np.diagonal(H))>0):\n",
    "        tk=0\n",
    "    else:\n",
    "        tk= - min(np.diagonal(H)) + b\n",
    "    while True:\n",
    "        try:\n",
    "            ar= H + tk* I\n",
    "            L=np.linalg.cholesky(ar)\n",
    "            return L\n",
    "        except:\n",
    "            tk= max(2*tk, b)"
   ]
  },
  {
   "cell_type": "code",
   "execution_count": 37,
   "metadata": {},
   "outputs": [
    {
     "data": {
      "text/plain": [
       "array([[28.,  8.],\n",
       "       [ 8., 44.]])"
      ]
     },
     "execution_count": 37,
     "metadata": {},
     "output_type": "execute_result"
    }
   ],
   "source": [
    "L=make_positive(A)\n",
    "L@L.T"
   ]
  },
  {
   "cell_type": "code",
   "execution_count": 35,
   "metadata": {},
   "outputs": [
    {
     "data": {
      "text/plain": [
       "array([24.6862915, 47.3137085])"
      ]
     },
     "execution_count": 35,
     "metadata": {},
     "output_type": "execute_result"
    }
   ],
   "source": [
    "k=L@L.T\n",
    "LA.eig(k)[0]"
   ]
  },
  {
   "cell_type": "code",
   "execution_count": 36,
   "metadata": {},
   "outputs": [
    {
     "data": {
      "text/plain": [
       "2000.0"
      ]
     },
     "execution_count": 36,
     "metadata": {},
     "output_type": "execute_result"
    }
   ],
   "source": [
    "2/(10**(-3))"
   ]
  },
  {
   "cell_type": "code",
   "execution_count": null,
   "metadata": {},
   "outputs": [],
   "source": []
  }
 ],
 "metadata": {
  "kernelspec": {
   "display_name": "Python 3",
   "language": "python",
   "name": "python3"
  },
  "language_info": {
   "codemirror_mode": {
    "name": "ipython",
    "version": 3
   },
   "file_extension": ".py",
   "mimetype": "text/x-python",
   "name": "python",
   "nbconvert_exporter": "python",
   "pygments_lexer": "ipython3",
   "version": "3.7.6"
  }
 },
 "nbformat": 4,
 "nbformat_minor": 4
}
